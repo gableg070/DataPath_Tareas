{
 "cells": [
  {
   "cell_type": "markdown",
   "id": "274a47d5-28dd-4823-ba8f-f82029c0c6bf",
   "metadata": {},
   "source": [
    "## Paso 1: Descargar las librerías necesarias"
   ]
  },
  {
   "cell_type": "code",
   "execution_count": 583,
   "id": "3f2b14d5-7487-4046-a885-61a2e07198af",
   "metadata": {
    "tags": []
   },
   "outputs": [],
   "source": [
    "import json\n",
    "from typing import NamedTuple\n",
    "from datetime import datetime\n",
    "import google.cloud.aiplatform as aiplatform\n",
    "from google.cloud.aiplatform import pipeline_jobs\n",
    "\n",
    "from kfp.v2 import dsl, compiler\n",
    "\n",
    "from kfp.v2.dsl import (Artifact,\n",
    "                        Dataset,\n",
    "                        Input,\n",
    "                        Output,\n",
    "                        Model,\n",
    "                        Metrics,\n",
    "                        component, \n",
    "                        OutputPath, \n",
    "                        InputPath )\n",
    "import matplotlib.pyplot as plt\n",
    "import numpy as np"
   ]
  },
  {
   "cell_type": "markdown",
   "id": "ac830ac9-9aa7-45f1-b50e-572740584e6b",
   "metadata": {},
   "source": [
    " #### Definir versiones de Paquetes "
   ]
  },
  {
   "cell_type": "code",
   "execution_count": 441,
   "id": "8d6a89a1-bae2-4afc-814d-3a5b678cb5fd",
   "metadata": {
    "tags": []
   },
   "outputs": [],
   "source": [
    "PANDAS = \"pandas==1.3.2\"\n",
    "SKLEARN = \"scikit-learn==1.0.2\"\n",
    "TENSORFLOW = \"tensorflow==2.11.0\"\n",
    "GCLOUD_AIR = \"google.cloud.aiplatform==1.33.0\"\n",
    "KFP = \"kfp==2.4.0\""
   ]
  },
  {
   "cell_type": "markdown",
   "id": "a859786e-f791-4056-836b-900797edddb9",
   "metadata": {},
   "source": [
    "## Paso 2: Definir Variables del Proyecto"
   ]
  },
  {
   "cell_type": "code",
   "execution_count": 5,
   "id": "8b88be5a-dc26-4281-baee-06848c6f82cd",
   "metadata": {
    "tags": []
   },
   "outputs": [],
   "source": [
    "TIMESTAMP = datetime.now().strftime(\"%Y%m%d%H%M%S\")\n",
    "\n",
    "#PROJECT_ID = 'psyched-summer-380116'#you have to fill in your project id \n",
    "PROJECT_ID = 'aivertexproject-405921'\n",
    "LOCATION = 'us-central1'#you have to fill in the location of the data\n",
    "#PIPELINE_ROOT = 'gs://locale_root'#the location where the pipeline's artifacts are stored\n",
    "BUCKET_NAME=\"gs://\" + \"pipelines-tests\"\n",
    "PIPELINE_ROOT = f\"{BUCKET_NAME}/pipeline_root/\"\n",
    "\n",
    "#SERVICE_ACCOUNT = 'sa-vertex-example-oliver@psyched-summer-380116.iam.gserviceaccount.com'#the service account to connect with your project\n",
    "SERVICE_ACCOUNT = 'glvertex-600@aivertexproject-405921.iam.gserviceaccount.com'\n",
    "PIPELINE_NAME = \"flujo_clasificacion\"\n",
    "JOBID = f\"training-pipeline-{TIMESTAMP}\"\n",
    "ENABLE_CACHING = False\n",
    "TEMPLATE_PATH = \"flujo_clasificacion.json\""
   ]
  },
  {
   "cell_type": "code",
   "execution_count": 4,
   "id": "ea88efb0-eb1b-4547-8b11-ae9e5de9dc6d",
   "metadata": {
    "tags": []
   },
   "outputs": [],
   "source": [
    "BASE_IMAGE = \"gcr.io/deeplearning-platform-release/xgboost-cpu\""
   ]
  },
  {
   "cell_type": "markdown",
   "id": "3f1d5ff2-9ef0-4fa6-9e3b-dc0e6d3e2d86",
   "metadata": {},
   "source": [
    "## Paso 3: Definir Componentes"
   ]
  },
  {
   "cell_type": "markdown",
   "id": "ca37d006-ffa4-4ef8-9d1b-4aa53939911e",
   "metadata": {},
   "source": [
    "### Componente de Ingesta de Data"
   ]
  },
  {
   "cell_type": "code",
   "execution_count": 314,
   "id": "f600014a-3ff1-4ff3-8d5d-ac9dacd71bf1",
   "metadata": {
    "tags": []
   },
   "outputs": [
    {
     "name": "stderr",
     "output_type": "stream",
     "text": [
      "/var/tmp/ipykernel_3231/248007256.py:1: DeprecationWarning: output_component_file parameter is deprecated and will eventually be removed. Please use `Compiler().compile()` to compile a component instead.\n",
      "  @component(\n",
      "/var/tmp/ipykernel_3231/248007256.py:7: DeprecationWarning: output_component_file parameter is deprecated and will eventually be removed. Please use `Compiler().compile()` to compile a component instead.\n",
      "  def get_fmnist_data(\n"
     ]
    }
   ],
   "source": [
    "@component(\n",
    "    base_image = BASE_IMAGE, packages_to_install = [TENSORFLOW, SKLEARN, PANDAS],\n",
    "    output_component_file = \"getting_data.yaml\"\n",
    ")\n",
    "\n",
    "#def get_fmnist_data(dataset_out: Output[Dataset]): \n",
    "def get_fmnist_data(\n",
    "     dataset_train: OutputPath(),\n",
    "     dataset_test: OutputPath()):\n",
    "    \n",
    "    import pandas as pd\n",
    "    import tensorflow as tf\n",
    "    from tensorflow.keras.datasets import fashion_mnist\n",
    "    import os\n",
    "    import pickle\n",
    "    #dataset_fmnist = fashion_mnist.load_data()\n",
    "    #dataset_out = dataset_fmnist.to_csv(dataset_out.path, index=False)  \n",
    "    #dataset = fashion_mnist.load_data()\n",
    "    \n",
    "    train , test = fashion_mnist.load_data()\n",
    "    \n",
    "    with open(dataset_train + \".pkl\", 'wb') as file:\n",
    "                pickle.dump(train, file)\n",
    "    \n",
    "    with open(dataset_test + \".pkl\", 'wb') as file:\n",
    "               pickle.dump(test, file)\n",
    "\n",
    "    #return dataset_out"
   ]
  },
  {
   "cell_type": "markdown",
   "id": "86b33c4d-e083-4b79-b774-def8cb2f4254",
   "metadata": {},
   "source": [
    "### Componente de Entrenamiento del Modelo"
   ]
  },
  {
   "cell_type": "code",
   "execution_count": 598,
   "id": "79e2d8f8-3676-47e9-a7db-cd3c70ba0910",
   "metadata": {
    "tags": []
   },
   "outputs": [
    {
     "name": "stderr",
     "output_type": "stream",
     "text": [
      "/var/tmp/ipykernel_3231/894580935.py:1: DeprecationWarning: output_component_file parameter is deprecated and will eventually be removed. Please use `Compiler().compile()` to compile a component instead.\n",
      "  @component(\n",
      "/var/tmp/ipykernel_3231/894580935.py:7: DeprecationWarning: output_component_file parameter is deprecated and will eventually be removed. Please use `Compiler().compile()` to compile a component instead.\n",
      "  def model_training(\n"
     ]
    }
   ],
   "source": [
    "@component(\n",
    "        base_image = \"gcr.io/deeplearning-platform-release/tf-gpu.2-11.py310\", \n",
    "        packages_to_install = [TENSORFLOW],\n",
    "        output_component_file=\"model_training.yaml\"\n",
    ")\n",
    "\n",
    "def model_training(\n",
    "    dataset_train: InputPath(),\n",
    "    dataset_test: InputPath(),\n",
    "    model: Output[Model])-> NamedTuple(\n",
    "    \"Outputs\",\n",
    "    [\n",
    "        (\"train_acc\", float),  # Return parameters\n",
    "        (\"train_loss\", float)\n",
    "    ],\n",
    "):\n",
    "        import tensorflow as tf\n",
    "        from tensorflow.keras import layers, models\n",
    "        import os\n",
    "        import pickle\n",
    "        import joblib\n",
    "\n",
    "\n",
    "        with open(dataset_train + \".pkl\", 'rb') as file:\n",
    "            train_data = pickle.load(file)\n",
    "\n",
    "        with open(dataset_test + \".pkl\", 'rb') as file:\n",
    "            test_data = pickle.load(file)   \n",
    "\n",
    "\n",
    "        (train_images, train_labels) = train_data\n",
    "        (test_images, test_labels) = test_data\n",
    "\n",
    "        train_images, test_images = train_images / 255.0, test_images / 255.0\n",
    "\n",
    "        fmodel = models.Sequential()\n",
    "\n",
    "        # Convolutional and Pooling Layers\n",
    "        fmodel.add(layers.Conv2D(32, (3, 3), activation='relu', input_shape=(28, 28, 1)))\n",
    "        fmodel.add(layers.MaxPooling2D((2, 2)))\n",
    "        fmodel.add(layers.Conv2D(64, (3, 3), activation='relu'))\n",
    "        fmodel.add(layers.MaxPooling2D((2, 2)))\n",
    "\n",
    "         # Flatten the output for the fully connected layers\n",
    "        fmodel.add(layers.Flatten())\n",
    "\n",
    "        # Fully Connected Layers\n",
    "        fmodel.add(layers.Dense(64, activation='relu'))\n",
    "        fmodel.add(layers.Dense(10, activation='softmax'))  # 10 output classes for MNIST digits\n",
    "\n",
    "        # Compile the model\n",
    "        fmodel.compile(optimizer='adam',\n",
    "                          loss='sparse_categorical_crossentropy',\n",
    "                          metrics=['accuracy'])\n",
    "\n",
    "\n",
    "        history = fmodel.fit(train_images, train_labels,\n",
    "                                    batch_size=32,\n",
    "                                    epochs=5,\n",
    "                                    validation_data=(test_images, test_labels),\n",
    "                                    shuffle=True)\n",
    "\n",
    "        #model.metadata[\"framework\"] = \"xgboost\" \n",
    "        # Save the model as an artifact\n",
    "        #with open(model.path, 'wb') as f: \n",
    "         #   pickle.dump({\n",
    "        #        \"pipeline\": fmodel.model_pipeline,\n",
    "         #       \"target\": fmodel.target,\n",
    "        #        \"scores_dict\": fmodel.scores}, f)\n",
    "        # ensure to change GCS to local mount path\n",
    "        \n",
    "        \n",
    "        os.makedirs(model.path, exist_ok=True)\n",
    "        \n",
    "        fmodel.save( model.path + '/fmnist.h5')\n",
    "        \n",
    "        tf.saved_model.save(fmodel, model.path)\n",
    "        #model.save('./model/keras_model.h5')\n",
    "\n",
    "        #joblib.dump(fmodel, model.path + \"/model.joblib\")\n",
    "        \n",
    "        may_acurr = 0\n",
    "        cont = 0\n",
    "        cont_temp = 0\n",
    "        for ele in history.history['accuracy']:\n",
    "            if (ele > may_acurr):\n",
    "                may_acurr = ele\n",
    "                cont_temp = cont\n",
    "            cont += 1\n",
    "\n",
    "        loss = history.history['loss'][cont_temp]\n",
    "        \n",
    "        \n",
    "        return (may_acurr, loss);\n",
    "    "
   ]
  },
  {
   "cell_type": "markdown",
   "id": "bb8d0880-e76d-4146-88cb-4a5a20e96782",
   "metadata": {},
   "source": [
    "### Componente de Evaluación del Modelo"
   ]
  },
  {
   "cell_type": "code",
   "execution_count": 530,
   "id": "d8a983ad-4979-4e91-8f65-c9dba5077b41",
   "metadata": {
    "tags": []
   },
   "outputs": [
    {
     "name": "stderr",
     "output_type": "stream",
     "text": [
      "/var/tmp/ipykernel_3231/1816590585.py:1: DeprecationWarning: output_component_file parameter is deprecated and will eventually be removed. Please use `Compiler().compile()` to compile a component instead.\n",
      "  @component(\n",
      "/var/tmp/ipykernel_3231/1816590585.py:4: DeprecationWarning: output_component_file parameter is deprecated and will eventually be removed. Please use `Compiler().compile()` to compile a component instead.\n",
      "  def evaluate_model(\n"
     ]
    }
   ],
   "source": [
    "@component(\n",
    "       base_image = BASE_IMAGE, packages_to_install = [TENSORFLOW, PANDAS],\n",
    "        output_component_file=\"model_evaluation.yaml\" )\n",
    "def evaluate_model(\n",
    "    dataset_test: InputPath(),\n",
    "    model: Input[Model],\n",
    "    metrics_train: Output[Metrics],\n",
    "    metrics_test: Output[Metrics],\n",
    "    train_acc: float,\n",
    "    train_loss: float\n",
    "):\n",
    "    import tensorflow as tf\n",
    "    from tensorflow.keras import layers, models\n",
    "    from keras.models import load_model\n",
    "    import pickle \n",
    "    import os\n",
    "    #import joblib\n",
    "    \n",
    "    #model_path = os.path.join(model.path, \"model.joblib\")\n",
    "    #model = joblib.load(model_path)\n",
    "    \n",
    "    model_path = os.path.join(model.path, \"fmnist.h5\")\n",
    "   # model = tf.saved_model.load(model.path)\n",
    "    model = tf.keras.models.load_model(model_path)\n",
    "    \n",
    "    with open(dataset_test + \".pkl\", 'rb') as file:\n",
    "            test_data = pickle.load(file)   \n",
    "\n",
    "    (test_images, test_labels) = test_data\n",
    "    test_images = test_images / 255.0\n",
    "    test_loss, test_acc = model.evaluate(test_images,  test_labels, verbose=2)\n",
    "    \n",
    "    metrics_train.log_metric(\"Train Accuracy\" , train_acc)\n",
    "    metrics_train.log_metric(\"Train Loss\" , train_loss)\n",
    "    \n",
    "    metrics_test.log_metric(\"Test Accuracy\" , test_acc)\n",
    "    metrics_test.log_metric(\"Test Loss\" , test_loss)\n"
   ]
  },
  {
   "cell_type": "code",
   "execution_count": 286,
   "id": "af7b3b02-0052-4bbf-aa0b-77cc324c1c97",
   "metadata": {
    "tags": []
   },
   "outputs": [
    {
     "name": "stdout",
     "output_type": "stream",
     "text": [
      "<module 'google.cloud.aiplatform' from '/opt/conda/lib/python3.10/site-packages/google/cloud/aiplatform/__init__.py'>\n"
     ]
    }
   ],
   "source": [
    "import google.cloud.aiplatform as vertex_ai\n",
    "from pathlib import Path as pt\n",
    "\n",
    "#print(aiplatform)\n",
    "print(vertex_ai)"
   ]
  },
  {
   "cell_type": "markdown",
   "id": "e4a43586-9c5d-4e5e-894a-00a2b2d34ab9",
   "metadata": {},
   "source": [
    "## Paso 5: Desplegar Modelo"
   ]
  },
  {
   "cell_type": "code",
   "execution_count": 554,
   "id": "3b4c51ae-92c9-434e-96ed-84c0ae687bfd",
   "metadata": {},
   "outputs": [
    {
     "name": "stderr",
     "output_type": "stream",
     "text": [
      "/var/tmp/ipykernel_3231/2058222123.py:1: DeprecationWarning: output_component_file parameter is deprecated and will eventually be removed. Please use `Compiler().compile()` to compile a component instead.\n",
      "  @component(\n",
      "/var/tmp/ipykernel_3231/2058222123.py:6: DeprecationWarning: output_component_file parameter is deprecated and will eventually be removed. Please use `Compiler().compile()` to compile a component instead.\n",
      "  def deploy_fmnist(\n"
     ]
    }
   ],
   "source": [
    "@component(\n",
    "    base_image=BASE_IMAGE, packages_to_install = [GCLOUD_AIR, KFP], \n",
    "    install_kfp_package=True,\n",
    "    output_component_file=\"model_deployment.yaml\",\n",
    ")\n",
    "def deploy_fmnist(\n",
    "        serving_container_image_uri: str,\n",
    "        display_name: str,\n",
    "        model_endpoint: str,\n",
    "        gcp_project: str,\n",
    "        gcp_region: str,\n",
    "        model: Input[Model],\n",
    "        vertex_model: Output[Model],\n",
    "        vertex_endpoint: Output[Model]\n",
    "):\n",
    "\n",
    "    import google.cloud.aiplatform as vertex_ai\n",
    "\n",
    "    from kfp.v2 import dsl, compiler\n",
    "    from pathlib import Path\n",
    "    import os\n",
    "    \n",
    "    model_xpath = os.path.join(model.path, \"saved_model.pb\")\n",
    "    \n",
    "    \n",
    "    # Checks existing Vertex AI Enpoint or creates Endpoint if it is not exist.\n",
    "    def create_endpoint ():\n",
    "        endpoints = vertex_ai.Endpoint.list(\n",
    "        filter='display_name=\"{0}\"'.format(model_endpoint),\n",
    "        order_by='create_time desc',\n",
    "        project=gcp_project,\n",
    "        location=gcp_region,\n",
    "        )\n",
    "        if len(endpoints) > 0:\n",
    "            endpoint = endpoints[0] # most recently created\n",
    "        else:\n",
    "            endpoint = vertex_ai.Endpoint.create(\n",
    "                display_name=model_endpoint,\n",
    "                project=gcp_project,\n",
    "                location=gcp_region\n",
    "        )\n",
    "        return endpoint\n",
    "\n",
    "    endpoint = create_endpoint()\n",
    "    \n",
    "    def upload_model():\n",
    "        listed_model = vertex_ai.Model.list(\n",
    "        filter='display_name=\"{0}\"'.format(display_name),\n",
    "        project=gcp_project,\n",
    "        location=gcp_region,\n",
    "        )\n",
    "        if len(listed_model) > 0:\n",
    "            model_version = listed_model[0] # most recently created\n",
    "            model_upload = vertex_ai.Model.upload(\n",
    "                    display_name=display_name,\n",
    "                    #parent_model=model_version.resource_name,\n",
    "                    #artifact_uri=artifact_uri,\n",
    "                    #artifact_uri=str(Path(model.path).parent),\n",
    "                    artifact_uri=str(model.path),\n",
    "                    serving_container_image_uri=serving_container_image_uri,\n",
    "                    location=gcp_region\n",
    "            )\n",
    "        else:\n",
    "            model_upload = vertex_ai.Model.upload(\n",
    "                    display_name=display_name,\n",
    "                    #artifact_uri=str(Path(model.path).parent),\n",
    "                    artifact_uri=str(model.path),\n",
    "                    serving_container_image_uri=serving_container_image_uri,\n",
    "                    location=gcp_region,\n",
    "            )\n",
    "        return model_upload\n",
    "    \n",
    "    uploaded_model = upload_model()\n",
    "    \n",
    "    # Save data to the output params\n",
    "    vertex_model.uri = uploaded_model.resource_name\n",
    "\n",
    "    # Deploys trained model to Vertex AI Endpoint\n",
    "    model_deploy = uploaded_model.deploy(\n",
    "        machine_type='n1-standard-4',\n",
    "        endpoint=endpoint,\n",
    "        min_replica_count=1,\n",
    "        max_replica_count=1,\n",
    "        traffic_split={\"0\": 100},\n",
    "        deployed_model_display_name=display_name,\n",
    "    )\n",
    "\n",
    "    # Save data to the output params\n",
    "    vertex_endpoint.uri = model_deploy.resource_name"
   ]
  },
  {
   "cell_type": "markdown",
   "id": "9722f867-f306-4576-9f02-91fe9b768466",
   "metadata": {},
   "source": [
    "## Paso 6: Crear el Pipeline"
   ]
  },
  {
   "cell_type": "code",
   "execution_count": 558,
   "id": "21009880-9c57-4f60-83f3-0d7ba22ccb4d",
   "metadata": {
    "tags": []
   },
   "outputs": [
    {
     "name": "stdout",
     "output_type": "stream",
     "text": [
      "fmnist-job20231125174807\n"
     ]
    }
   ],
   "source": [
    "# USE TIMESTAMP TO DEFINE UNIQUE PIPELINE NAMES\n",
    "TIMESTAMP = datetime.now().strftime(\"%Y%m%d%H%M%S\")\n",
    "JOBID = 'fmnist-job{0}'.format(TIMESTAMP)\n",
    "#JOBID = f\"training-pipeline-{TIMESTAMP}\"\n",
    "print(JOBID)"
   ]
  },
  {
   "cell_type": "code",
   "execution_count": 559,
   "id": "5d1fdd63-3349-420c-9ef8-2faf8adae66a",
   "metadata": {
    "tags": []
   },
   "outputs": [],
   "source": [
    "@dsl.pipeline(\n",
    "    name=\"flujo_fmnist\",\n",
    "    pipeline_root=PIPELINE_ROOT\n",
    "    # A name for the pipeline. Use to determine the pipeline Context.\n",
    ")\n",
    "\n",
    "def pipeline(\n",
    "    project: str = PROJECT_ID,\n",
    "    region: str = LOCATION, \n",
    "    #display_name: str = JOBID,    \n",
    "    serving_container_image_uri: str = 'gcr.io/cloud-aiplatform/prediction/tf2-cpu.2-5:latest'\n",
    "):\n",
    "\n",
    "    dataop = get_fmnist_data().set_display_name(\"Ingest Data\")\n",
    "    #data_preprocess_op = preprocess_houseprice_data(data_op.outputs[\"dataset_train\"])\n",
    "    #train_text_split_data = train_text_split(dataset_in=dataop.outputs[\"dataset_out\"])\n",
    "    train_model_op = model_training(dataset_train=dataop.outputs[\"dataset_train\"], dataset_test=dataop.outputs[\"dataset_test\"]).set_display_name(\"Train Model\")\n",
    "    #train_model_op = model_training()\n",
    "    model_evaluation_op = evaluate_model(dataset_test=dataop.outputs[\"dataset_test\"],\n",
    "                                         model = train_model_op.outputs[\"model\"] ,\n",
    "                                         train_acc = train_model_op.outputs[\"train_acc\"], \n",
    "                                         train_loss = train_model_op.outputs[\"train_loss\"],\n",
    "                                        ).set_display_name(\"Evaluate Model\")\n",
    "    \n",
    "    ## condicional para el depliegue\n",
    "    #dsl.conditional()\n",
    "    \n",
    "    deploy_model_op = deploy_fmnist(\n",
    "        model = train_model_op.outputs['model'],\n",
    "        gcp_project = project,\n",
    "        gcp_region = region, \n",
    "        serving_container_image_uri = serving_container_image_uri,\n",
    "        display_name = \"fashion_mnist\",\n",
    "        model_endpoint = \"fmnist_endpoint\"\n",
    "    )"
   ]
  },
  {
   "cell_type": "markdown",
   "id": "7c3f4f41-b614-4016-9406-d6cc9eae36a9",
   "metadata": {},
   "source": [
    "## Paso 7: Compilar el Pipeline"
   ]
  },
  {
   "cell_type": "code",
   "execution_count": 560,
   "id": "6da474c8-2a67-488e-809f-8868c309b960",
   "metadata": {
    "tags": []
   },
   "outputs": [],
   "source": [
    "# COMPILE THE PIPELINE (to create the job spec file)\n",
    "\n",
    "compiler.Compiler().compile(pipeline_func=pipeline,\n",
    "        package_path='ml_fmnist.json')"
   ]
  },
  {
   "cell_type": "code",
   "execution_count": 230,
   "id": "7921e1e4-79ea-41d7-8336-76afd3af95e3",
   "metadata": {
    "tags": []
   },
   "outputs": [],
   "source": [
    "#aiplatform.init(project=PROJECT_ID, location=LOCATION)"
   ]
  },
  {
   "cell_type": "code",
   "execution_count": 561,
   "id": "d9ffd128-4630-4a4a-a4ee-868dfaa79ce3",
   "metadata": {
    "tags": []
   },
   "outputs": [],
   "source": [
    "# CREATE A RUN USING THE JOB SPEC FILE GENERATED \n",
    "\n",
    "start_pipeline = aiplatform.pipeline_jobs.PipelineJob(\n",
    "    display_name=PIPELINE_NAME,\n",
    "    template_path=\"ml_fmnist.json\",\n",
    "    enable_caching=False,\n",
    "    location=LOCATION,\n",
    "    job_id = JOBID\n",
    ")\n",
    "\n"
   ]
  },
  {
   "cell_type": "code",
   "execution_count": 562,
   "id": "ae5f23a3-a64f-4d8b-9f52-689221c2fdbc",
   "metadata": {
    "tags": []
   },
   "outputs": [
    {
     "name": "stdout",
     "output_type": "stream",
     "text": [
      "glvertex-600@aivertexproject-405921.iam.gserviceaccount.com\n"
     ]
    }
   ],
   "source": [
    "import os\n",
    "PIPELINE_SERVICE_ACCOUNT = os.getenv(\"PIPELINE_SERVICE_ACCOUNT\", SERVICE_ACCOUNT) \n",
    "print(PIPELINE_SERVICE_ACCOUNT)"
   ]
  },
  {
   "cell_type": "code",
   "execution_count": 563,
   "id": "270b8fc1-c9ed-410b-8462-9aaa5da0ae4c",
   "metadata": {
    "tags": []
   },
   "outputs": [
    {
     "name": "stdout",
     "output_type": "stream",
     "text": [
      "Creating PipelineJob\n",
      "PipelineJob created. Resource name: projects/251922093489/locations/us-central1/pipelineJobs/fmnist-job20231125174807\n",
      "To use this PipelineJob in another session:\n",
      "pipeline_job = aiplatform.PipelineJob.get('projects/251922093489/locations/us-central1/pipelineJobs/fmnist-job20231125174807')\n",
      "View Pipeline Job:\n",
      "https://console.cloud.google.com/vertex-ai/locations/us-central1/pipelines/runs/fmnist-job20231125174807?project=251922093489\n"
     ]
    }
   ],
   "source": [
    "start_pipeline.submit(service_account=PIPELINE_SERVICE_ACCOUNT)"
   ]
  },
  {
   "cell_type": "code",
   "execution_count": null,
   "id": "08815c77-a29d-48df-9495-bfa0907fa4ff",
   "metadata": {},
   "outputs": [],
   "source": [
    "#start_pipeline.submit(service_account=SERVICE_ACCOUNT)"
   ]
  },
  {
   "cell_type": "markdown",
   "id": "19a56d61-40a2-4639-b626-335cf8c2c95d",
   "metadata": {},
   "source": [
    "### Probar y obtener Predicciones del Modelo mediante el uso del Endpoint"
   ]
  },
  {
   "cell_type": "code",
   "execution_count": 566,
   "id": "ce9da74c-3e7a-44b6-bcfd-2f269e1e6037",
   "metadata": {
    "tags": []
   },
   "outputs": [],
   "source": [
    "# Obtener Data de Prueba\n",
    "from tensorflow.keras.datasets import fashion_mnist\n",
    "\n",
    "    #dataset_fmnist = fashion_mnist.load_data()\n",
    "    #dataset_out = dataset_fmnist.to_csv(dataset_out.path, index=False)  \n",
    "    #dataset = fashion_mnist.load_data()\n",
    "    \n",
    "(train_images, train_labels), (test_images, test_labels) = fashion_mnist.load_data()\n",
    "\n"
   ]
  },
  {
   "cell_type": "code",
   "execution_count": 568,
   "id": "75944e93-b959-4e70-b185-7dc2f80b9ba9",
   "metadata": {
    "tags": []
   },
   "outputs": [],
   "source": [
    "#endpoint_name = f\"projects/{PROJECT_NUMBER}/locations/us-central1/endpoints/{ENDPOINT_ID}\"\n",
    "endpoint_name = f\"projects/251922093489/locations/us-central1/endpoints/4629966498750791680\"\n",
    "\n",
    "endpoint = aiplatform.Endpoint(endpoint_name = endpoint_name)\n",
    "                               "
   ]
  },
  {
   "cell_type": "code",
   "execution_count": 652,
   "id": "149e6431-f9e0-4a40-8afa-0156e01c072d",
   "metadata": {
    "tags": []
   },
   "outputs": [],
   "source": [
    "# Data de prueba contiene 10000 valores\n",
    "valor = 35 #Valor editable como máxima posición 10000\n",
    "\n",
    "X_test = test_images[valor].reshape(28, 28, 1)\n",
    "X_test = X_test.tolist()\n"
   ]
  },
  {
   "cell_type": "code",
   "execution_count": 592,
   "id": "3a69ba82-b5d0-4378-b003-3099942292c3",
   "metadata": {
    "tags": []
   },
   "outputs": [],
   "source": [
    "#import matplotlib as plt \n",
    "#import numpy as np\n",
    "def mostrar_imagen(i):\n",
    "    plt.figure(figsize=(4,4))\n",
    "    plt.xticks([])\n",
    "    plt.yticks([])\n",
    "    plt.grid(False)\n",
    "    plt.imshow(test_images[i], cmap=plt.cm.binary)\n",
    "    plt.xlabel(class_names[test_labels[i]])\n",
    "    plt.show()\n",
    "\n",
    "# assign each numerical label to its English equivalent\n",
    "#class_names = ['T-shirt/top','Trouser','Pullover','Dress','Coat','Sandal','Shirt','Sneaker','Bag','Ankle boot']\n",
    "class_names = ['Camiseta/top','Pantalones','Jersey','Vestido','Abrigo','Sandalias','Camisa','Zapatillas','Bolso','Botines']\n",
    "\n",
    "def clasificar(num):  \n",
    "    print('La predicción del modelo fue: '+ str(class_names[num]))\n",
    "\n",
    "def result(val):\n",
    "    print(\"\\nLa categoría real es: \"+ str(class_names[test_labels[val]]))\n",
    "    \n",
    "    \n"
   ]
  },
  {
   "cell_type": "markdown",
   "id": "6a255f0e-ab8c-492c-8d14-4d13f2260532",
   "metadata": {},
   "source": [
    "### Generar las Predicciones"
   ]
  },
  {
   "cell_type": "code",
   "execution_count": 653,
   "id": "fc964705-2ff2-4c11-81aa-685a76395fc9",
   "metadata": {
    "tags": []
   },
   "outputs": [
    {
     "name": "stdout",
     "output_type": "stream",
     "text": [
      "Predicciones: \n",
      "\n",
      "[[1.0, 0.0, 0.0, 0.0, 0.0, 0.0, 0.0, 0.0, 0.0, 0.0]]\n"
     ]
    }
   ],
   "source": [
    "predictions = endpoint.predict(instances=[X_test]).predictions\n",
    "\n",
    "print(\"Predicciones: \")\n",
    "print(\"\")\n",
    "print(predictions)\n"
   ]
  },
  {
   "cell_type": "markdown",
   "id": "fc57a3b5-eda3-4caa-abb9-da77d302b642",
   "metadata": {},
   "source": [
    "### Mostrar Predicciones"
   ]
  },
  {
   "cell_type": "code",
   "execution_count": 654,
   "id": "56044d07-d40c-416e-8e21-ba8569fadaa6",
   "metadata": {
    "tags": []
   },
   "outputs": [
    {
     "name": "stdout",
     "output_type": "stream",
     "text": [
      "La predicción del modelo fue: Camiseta/top\n",
      "\n",
      "La categoría real es: Camiseta/top\n"
     ]
    },
    {
     "data": {
      "image/png": "[encoded data removed]",
      "text/plain": [
       "<Figure size 400x400 with 1 Axes>"
      ]
     },
     "metadata": {},
     "output_type": "display_data"
    }
   ],
   "source": [
    "pred = np.argmax(predictions)\n",
    "clasificar(pred)\n",
    "result(valor)\n",
    "mostrar_imagen(valor)\n"
   ]
  },
  {
   "cell_type": "code",
   "execution_count": null,
   "id": "722f4b34-9853-450e-b710-f4ec12ade352",
   "metadata": {},
   "outputs": [],
   "source": [
    "\n",
    "\n",
    "\n"
   ]
  },
  {
   "cell_type": "code",
   "execution_count": null,
   "id": "9ee8415b-c266-4670-bdde-21381cc22781",
   "metadata": {},
   "outputs": [],
   "source": []
  }
 ],
 "metadata": {
  "environment": {
   "kernel": "python3",
   "name": "tf2-cpu.2-11.m113",
   "type": "gcloud",
   "uri": "gcr.io/deeplearning-platform-release/tf2-cpu.2-11:m113"
  },
  "kernelspec": {
   "display_name": "Python 3",
   "language": "python",
   "name": "python3"
  },
  "language_info": {
   "codemirror_mode": {
    "name": "ipython",
    "version": 3
   },
   "file_extension": ".py",
   "mimetype": "text/x-python",
   "name": "python",
   "nbconvert_exporter": "python",
   "pygments_lexer": "ipython3",
   "version": "3.10.13"
  }
 },
 "nbformat": 4,
 "nbformat_minor": 5
}
